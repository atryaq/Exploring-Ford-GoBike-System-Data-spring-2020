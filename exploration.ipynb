{
 "cells": [
  {
   "cell_type": "markdown",
   "metadata": {},
   "source": [
    "# Exploring Ford GoBike System Data (spring 2020)\n",
    "## by Ahmed Tryaq\n",
    "\n",
    "## Preliminary Wrangling\n",
    "\n",
    "This data set includes details about individual rides made in a bike-sharing system covering the greater San Francisco Bay area during the period from April to June (spring 2020)."
   ]
  },
  {
   "cell_type": "code",
   "execution_count": 1,
   "metadata": {},
   "outputs": [],
   "source": [
    "# import all packages and set plots to be embedded inline\n",
    "import numpy as np\n",
    "import pandas as pd\n",
    "import matplotlib.pyplot as plt\n",
    "import seaborn as sb\n",
    "\n",
    "%matplotlib inline"
   ]
  },
  {
   "cell_type": "markdown",
   "metadata": {},
   "source": [
    "Loading and Exploring dataset:"
   ]
  },
  {
   "cell_type": "code",
   "execution_count": 2,
   "metadata": {
    "scrolled": true
   },
   "outputs": [],
   "source": [
    "dataframes = []\n",
    "datasets = [4,5,6]\n",
    "\n",
    "for data in datasets:\n",
    "    dataframes.append(pd.read_csv('20200' + str(data) + '-baywheels-tripdata.csv'))"
   ]
  },
  {
   "cell_type": "code",
   "execution_count": 3,
   "metadata": {},
   "outputs": [
    {
     "data": {
      "text/plain": [
       "(380678, 14)"
      ]
     },
     "execution_count": 3,
     "metadata": {},
     "output_type": "execute_result"
    }
   ],
   "source": [
    "spring = pd.concat(dataframes)\n",
    "spring.reset_index(inplace=True, drop=True)\n",
    "spring.shape"
   ]
  },
  {
   "cell_type": "code",
   "execution_count": 4,
   "metadata": {},
   "outputs": [
    {
     "data": {
      "text/html": [
       "<div>\n",
       "<style scoped>\n",
       "    .dataframe tbody tr th:only-of-type {\n",
       "        vertical-align: middle;\n",
       "    }\n",
       "\n",
       "    .dataframe tbody tr th {\n",
       "        vertical-align: top;\n",
       "    }\n",
       "\n",
       "    .dataframe thead th {\n",
       "        text-align: right;\n",
       "    }\n",
       "</style>\n",
       "<table border=\"1\" class=\"dataframe\">\n",
       "  <thead>\n",
       "    <tr style=\"text-align: right;\">\n",
       "      <th></th>\n",
       "      <th>ride_id</th>\n",
       "      <th>rideable_type</th>\n",
       "      <th>started_at</th>\n",
       "      <th>ended_at</th>\n",
       "      <th>start_station_name</th>\n",
       "      <th>start_station_id</th>\n",
       "      <th>end_station_name</th>\n",
       "      <th>end_station_id</th>\n",
       "      <th>start_lat</th>\n",
       "      <th>start_lng</th>\n",
       "      <th>end_lat</th>\n",
       "      <th>end_lng</th>\n",
       "      <th>member_casual</th>\n",
       "      <th>is_equity</th>\n",
       "    </tr>\n",
       "  </thead>\n",
       "  <tbody>\n",
       "    <tr>\n",
       "      <th>0</th>\n",
       "      <td>5A1FF31692371859</td>\n",
       "      <td>electric_bike</td>\n",
       "      <td>2020-04-04 08:28:20</td>\n",
       "      <td>2020-04-04 08:33:34</td>\n",
       "      <td>NaN</td>\n",
       "      <td>NaN</td>\n",
       "      <td>NaN</td>\n",
       "      <td>NaN</td>\n",
       "      <td>37.7692</td>\n",
       "      <td>-122.4209</td>\n",
       "      <td>37.7703</td>\n",
       "      <td>-122.4069</td>\n",
       "      <td>casual</td>\n",
       "      <td>NaN</td>\n",
       "    </tr>\n",
       "    <tr>\n",
       "      <th>1</th>\n",
       "      <td>D8D5BA2D4F051133</td>\n",
       "      <td>electric_bike</td>\n",
       "      <td>2020-04-03 18:55:43</td>\n",
       "      <td>2020-04-03 19:21:05</td>\n",
       "      <td>NaN</td>\n",
       "      <td>NaN</td>\n",
       "      <td>NaN</td>\n",
       "      <td>NaN</td>\n",
       "      <td>37.8023</td>\n",
       "      <td>-122.4244</td>\n",
       "      <td>37.8023</td>\n",
       "      <td>-122.4244</td>\n",
       "      <td>casual</td>\n",
       "      <td>NaN</td>\n",
       "    </tr>\n",
       "    <tr>\n",
       "      <th>2</th>\n",
       "      <td>A3633A9140CA4FF8</td>\n",
       "      <td>electric_bike</td>\n",
       "      <td>2020-04-04 15:11:04</td>\n",
       "      <td>2020-04-04 15:12:21</td>\n",
       "      <td>NaN</td>\n",
       "      <td>NaN</td>\n",
       "      <td>NaN</td>\n",
       "      <td>NaN</td>\n",
       "      <td>37.7667</td>\n",
       "      <td>-122.3961</td>\n",
       "      <td>37.7667</td>\n",
       "      <td>-122.3962</td>\n",
       "      <td>casual</td>\n",
       "      <td>NaN</td>\n",
       "    </tr>\n",
       "    <tr>\n",
       "      <th>3</th>\n",
       "      <td>301F57EB0197A5E0</td>\n",
       "      <td>electric_bike</td>\n",
       "      <td>2020-04-03 20:21:03</td>\n",
       "      <td>2020-04-03 22:08:06</td>\n",
       "      <td>8th St at Ringold St</td>\n",
       "      <td>60.0</td>\n",
       "      <td>NaN</td>\n",
       "      <td>NaN</td>\n",
       "      <td>37.7744</td>\n",
       "      <td>-122.4095</td>\n",
       "      <td>37.7805</td>\n",
       "      <td>-122.4033</td>\n",
       "      <td>casual</td>\n",
       "      <td>NaN</td>\n",
       "    </tr>\n",
       "    <tr>\n",
       "      <th>4</th>\n",
       "      <td>9429C701AF5744B3</td>\n",
       "      <td>electric_bike</td>\n",
       "      <td>2020-04-03 18:39:39</td>\n",
       "      <td>2020-04-03 18:47:19</td>\n",
       "      <td>NaN</td>\n",
       "      <td>NaN</td>\n",
       "      <td>NaN</td>\n",
       "      <td>NaN</td>\n",
       "      <td>37.8027</td>\n",
       "      <td>-122.4433</td>\n",
       "      <td>37.8009</td>\n",
       "      <td>-122.4269</td>\n",
       "      <td>casual</td>\n",
       "      <td>NaN</td>\n",
       "    </tr>\n",
       "  </tbody>\n",
       "</table>\n",
       "</div>"
      ],
      "text/plain": [
       "            ride_id  rideable_type           started_at             ended_at  \\\n",
       "0  5A1FF31692371859  electric_bike  2020-04-04 08:28:20  2020-04-04 08:33:34   \n",
       "1  D8D5BA2D4F051133  electric_bike  2020-04-03 18:55:43  2020-04-03 19:21:05   \n",
       "2  A3633A9140CA4FF8  electric_bike  2020-04-04 15:11:04  2020-04-04 15:12:21   \n",
       "3  301F57EB0197A5E0  electric_bike  2020-04-03 20:21:03  2020-04-03 22:08:06   \n",
       "4  9429C701AF5744B3  electric_bike  2020-04-03 18:39:39  2020-04-03 18:47:19   \n",
       "\n",
       "     start_station_name  start_station_id end_station_name  end_station_id  \\\n",
       "0                   NaN               NaN              NaN             NaN   \n",
       "1                   NaN               NaN              NaN             NaN   \n",
       "2                   NaN               NaN              NaN             NaN   \n",
       "3  8th St at Ringold St              60.0              NaN             NaN   \n",
       "4                   NaN               NaN              NaN             NaN   \n",
       "\n",
       "   start_lat  start_lng  end_lat   end_lng member_casual is_equity  \n",
       "0    37.7692  -122.4209  37.7703 -122.4069        casual       NaN  \n",
       "1    37.8023  -122.4244  37.8023 -122.4244        casual       NaN  \n",
       "2    37.7667  -122.3961  37.7667 -122.3962        casual       NaN  \n",
       "3    37.7744  -122.4095  37.7805 -122.4033        casual       NaN  \n",
       "4    37.8027  -122.4433  37.8009 -122.4269        casual       NaN  "
      ]
     },
     "execution_count": 4,
     "metadata": {},
     "output_type": "execute_result"
    }
   ],
   "source": [
    "spring.head()"
   ]
  },
  {
   "cell_type": "markdown",
   "metadata": {},
   "source": [
    "Converting date columns to datetime"
   ]
  },
  {
   "cell_type": "code",
   "execution_count": 5,
   "metadata": {},
   "outputs": [],
   "source": [
    "spring['started_at'] = pd.to_datetime(spring['started_at'])\n",
    "spring['ended_at'] = pd.to_datetime(spring['ended_at'])"
   ]
  },
  {
   "cell_type": "code",
   "execution_count": 6,
   "metadata": {},
   "outputs": [
    {
     "name": "stdout",
     "output_type": "stream",
     "text": [
      "<class 'pandas.core.frame.DataFrame'>\n",
      "RangeIndex: 380678 entries, 0 to 380677\n",
      "Data columns (total 14 columns):\n",
      " #   Column              Non-Null Count   Dtype         \n",
      "---  ------              --------------   -----         \n",
      " 0   ride_id             380678 non-null  object        \n",
      " 1   rideable_type       380678 non-null  object        \n",
      " 2   started_at          380678 non-null  datetime64[ns]\n",
      " 3   ended_at            380678 non-null  datetime64[ns]\n",
      " 4   start_station_name  239969 non-null  object        \n",
      " 5   start_station_id    239969 non-null  float64       \n",
      " 6   end_station_name    233788 non-null  object        \n",
      " 7   end_station_id      233788 non-null  float64       \n",
      " 8   start_lat           380678 non-null  float64       \n",
      " 9   start_lng           380678 non-null  float64       \n",
      " 10  end_lat             380036 non-null  float64       \n",
      " 11  end_lng             380036 non-null  float64       \n",
      " 12  member_casual       380678 non-null  object        \n",
      " 13  is_equity           138251 non-null  object        \n",
      "dtypes: datetime64[ns](2), float64(6), object(6)\n",
      "memory usage: 40.7+ MB\n"
     ]
    }
   ],
   "source": [
    "spring.info()"
   ]
  },
  {
   "cell_type": "markdown",
   "metadata": {},
   "source": [
    "**Making a column of duration of each ride**"
   ]
  },
  {
   "cell_type": "code",
   "execution_count": 7,
   "metadata": {},
   "outputs": [
    {
     "data": {
      "text/plain": [
       "count                    380678\n",
       "mean     0 days 00:29:21.336097\n",
       "std      0 days 06:24:48.194616\n",
       "min           -1 days +23:45:57\n",
       "25%             0 days 00:07:14\n",
       "50%             0 days 00:13:24\n",
       "75%             0 days 00:24:58\n",
       "max            38 days 00:08:52\n",
       "Name: duration, dtype: object"
      ]
     },
     "execution_count": 7,
     "metadata": {},
     "output_type": "execute_result"
    }
   ],
   "source": [
    "spring['duration'] = spring['ended_at'] - spring['started_at']\n",
    "spring.duration.describe()"
   ]
  },
  {
   "cell_type": "markdown",
   "metadata": {},
   "source": [
    "Dropping error columns with duration less than zero."
   ]
  },
  {
   "cell_type": "code",
   "execution_count": 8,
   "metadata": {},
   "outputs": [],
   "source": [
    "index = (spring[spring.duration < '0']).index\n",
    "spring.drop(index, inplace=True)"
   ]
  },
  {
   "cell_type": "code",
   "execution_count": 9,
   "metadata": {},
   "outputs": [
    {
     "data": {
      "text/plain": [
       "(380365, 15)"
      ]
     },
     "execution_count": 9,
     "metadata": {},
     "output_type": "execute_result"
    }
   ],
   "source": [
    "spring.shape"
   ]
  },
  {
   "cell_type": "code",
   "execution_count": 10,
   "metadata": {},
   "outputs": [
    {
     "data": {
      "text/plain": [
       "electric_bike    261134\n",
       "docked_bike      119231\n",
       "Name: rideable_type, dtype: int64"
      ]
     },
     "execution_count": 10,
     "metadata": {},
     "output_type": "execute_result"
    }
   ],
   "source": [
    "spring.rideable_type.value_counts()"
   ]
  },
  {
   "cell_type": "markdown",
   "metadata": {},
   "source": [
    "Checking for duplicates:"
   ]
  },
  {
   "cell_type": "code",
   "execution_count": 11,
   "metadata": {},
   "outputs": [
    {
     "data": {
      "text/plain": [
       "0.0"
      ]
     },
     "execution_count": 11,
     "metadata": {},
     "output_type": "execute_result"
    }
   ],
   "source": [
    "spring.duplicated().mean()"
   ]
  },
  {
   "cell_type": "markdown",
   "metadata": {},
   "source": [
    "### Structure of your dataset\n",
    "\n",
    "380365 Rows and 15 columns\n",
    "\n",
    "### Main features of interest in dataset\n",
    "\n",
    "Date, customer type (member or casual), rideable type, start station, end station.\n",
    "\n",
    "### Features in the dataset may help support our investigation\n",
    "\n",
    "Duration of the trip, start time, customer type (member or casual), rideable type."
   ]
  },
  {
   "cell_type": "markdown",
   "metadata": {},
   "source": [
    "## Univariate Exploration"
   ]
  },
  {
   "cell_type": "markdown",
   "metadata": {},
   "source": [
    "## Duration"
   ]
  },
  {
   "cell_type": "code",
   "execution_count": 12,
   "metadata": {},
   "outputs": [],
   "source": [
    "#Converting duration to minutes\n",
    "spring['duration'] = spring.duration.dt.total_seconds() / 60"
   ]
  },
  {
   "cell_type": "markdown",
   "metadata": {},
   "source": [
    "Plotting boxplot and histogram of duration:"
   ]
  },
  {
   "cell_type": "code",
   "execution_count": 13,
   "metadata": {},
   "outputs": [
    {
     "data": {
      "text/plain": [
       "(-2.0, 1000.0)"
      ]
     },
     "execution_count": 13,
     "metadata": {},
     "output_type": "execute_result"
    },
    {
     "data": {
      "image/png": "[encoded data removed]",
      "text/plain": [
       "<Figure size 1152x144 with 1 Axes>"
      ]
     },
     "metadata": {
      "needs_background": "light"
     },
     "output_type": "display_data"
    }
   ],
   "source": [
    "plt.figure(figsize=(16,2))\n",
    "sb.boxplot(data=spring, x='duration')\n",
    "plt.xlim(-2,1000)"
   ]
  },
  {
   "cell_type": "markdown",
   "metadata": {},
   "source": [
    "The previous boxplor shows that the distribution of duration is highly right skewd, with many outliars, they don't seem to be errors so we are gonna keep them. Log scale histogram is an appropriate option for visualization."
   ]
  },
  {
   "cell_type": "markdown",
   "metadata": {},
   "source": [
    "Plotting duration distribution:"
   ]
  },
  {
   "cell_type": "code",
   "execution_count": 64,
   "metadata": {},
   "outputs": [
    {
     "data": {
      "image/png": "[encoded data removed]",
      "text/plain": [
       "<Figure size 432x288 with 1 Axes>"
      ]
     },
     "metadata": {
      "needs_background": "light"
     },
     "output_type": "display_data"
    }
   ],
   "source": [
    "bins = np.arange(0, spring.duration.max() + 1, 1)\n",
    "plt.hist(spring.duration, bins = bins)\n",
    "plt.xlim(0, 200)\n",
    "plt.axvline(spring.duration.mean(), color='r')\n",
    "plt.text(30.2,16000,'Mean');"
   ]
  },
  {
   "cell_type": "markdown",
   "metadata": {},
   "source": [
    "As concluded earlier, data is right skewed."
   ]
  },
  {
   "cell_type": "markdown",
   "metadata": {},
   "source": [
    "plotting log scaled distribution histogram:"
   ]
  },
  {
   "cell_type": "code",
   "execution_count": 62,
   "metadata": {},
   "outputs": [
    {
     "data": {
      "image/png": "[encoded data removed]",
      "text/plain": [
       "<Figure size 432x288 with 1 Axes>"
      ]
     },
     "metadata": {
      "needs_background": "light"
     },
     "output_type": "display_data"
    }
   ],
   "source": [
    "max_duration = np.log10(spring.duration.max())\n",
    "min_duration = np.log10(1/60)\n",
    "bins = 10 ** np.arange(min_duration, max_duration + 0.1, .1)\n",
    "\n",
    "plt.hist(spring.duration, bins=bins)\n",
    "plt.xscale('log')\n",
    "tick = [0.1, .03, .1, .3, 1, 3, 10, 30, 100, 300, 1000]\n",
    "plt.xticks(tick, tick)\n",
    "plt.axvline(spring.duration.mean(), color='r')\n",
    "plt.text(30.2,35000,'Mean');"
   ]
  },
  {
   "cell_type": "markdown",
   "metadata": {},
   "source": [
    "Although the plot shows that most of individuals tend to use a bike for about 10 mins, mean values is skewed to the right due to very high values."
   ]
  },
  {
   "cell_type": "markdown",
   "metadata": {},
   "source": [
    "Comparing number of casual customers to number of members:"
   ]
  },
  {
   "cell_type": "code",
   "execution_count": 16,
   "metadata": {},
   "outputs": [
    {
     "data": {
      "text/plain": [
       "<matplotlib.axes._subplots.AxesSubplot at 0x1fcb3f25b08>"
      ]
     },
     "execution_count": 16,
     "metadata": {},
     "output_type": "execute_result"
    },
    {
     "data": {
      "image/png": "[encoded data removed]",
      "text/plain": [
       "<Figure size 432x288 with 1 Axes>"
      ]
     },
     "metadata": {
      "needs_background": "light"
     },
     "output_type": "display_data"
    }
   ],
   "source": [
    "color = sb.color_palette()[0]\n",
    "sb.countplot(spring['member_casual'], color=color)"
   ]
  },
  {
   "cell_type": "markdown",
   "metadata": {},
   "source": [
    "Plot shows significant visual increase of casual customers compared to members."
   ]
  },
  {
   "cell_type": "markdown",
   "metadata": {},
   "source": [
    "Plotting number of trips on elctric bikes compared with docked bikes:"
   ]
  },
  {
   "cell_type": "code",
   "execution_count": 17,
   "metadata": {},
   "outputs": [
    {
     "data": {
      "text/plain": [
       "<matplotlib.axes._subplots.AxesSubplot at 0x1fcb4f94e08>"
      ]
     },
     "execution_count": 17,
     "metadata": {},
     "output_type": "execute_result"
    },
    {
     "data": {
      "image/png": "[encoded data removed]",
      "text/plain": [
       "<Figure size 432x288 with 1 Axes>"
      ]
     },
     "metadata": {
      "needs_background": "light"
     },
     "output_type": "display_data"
    }
   ],
   "source": [
    "sb.countplot(spring['rideable_type'], color=color)"
   ]
  },
  {
   "cell_type": "markdown",
   "metadata": {},
   "source": [
    "It appears the most of trips done in spring 2020 was on an electric bikes."
   ]
  },
  {
   "cell_type": "markdown",
   "metadata": {},
   "source": [
    "### Summary I\n",
    "\n",
    "- Trip duration looked clearly right skewed, I decided to make a log transformation for visualization, most trips took only 10 minutes, while there are few points with a much larger durations. <br>\n",
    "- Most of customers were casual customers, and most of bikes rided were electric bikes. <br>"
   ]
  },
  {
   "cell_type": "markdown",
   "metadata": {},
   "source": [
    "## Bivariate Exploration\n",
    "\n",
    "- In this section, I'm investigating relationships between different pairs of variables in the data.\n",
    "Starting with mean duration in each category."
   ]
  },
  {
   "cell_type": "markdown",
   "metadata": {},
   "source": [
    "Comparing mean trip duration for casual customers and members"
   ]
  },
  {
   "cell_type": "code",
   "execution_count": 18,
   "metadata": {},
   "outputs": [
    {
     "data": {
      "text/plain": [
       "<matplotlib.axes._subplots.AxesSubplot at 0x1fcb40856c8>"
      ]
     },
     "execution_count": 18,
     "metadata": {},
     "output_type": "execute_result"
    },
    {
     "data": {
      "image/png": "[encoded data removed]",
      "text/plain": [
       "<Figure size 432x288 with 1 Axes>"
      ]
     },
     "metadata": {
      "needs_background": "light"
     },
     "output_type": "display_data"
    }
   ],
   "source": [
    "sb.barplot(data=spring, x='member_casual', y='duration', color=color)"
   ]
  },
  {
   "cell_type": "markdown",
   "metadata": {},
   "source": [
    "Trip duration in casual customers is nearly twice as members."
   ]
  },
  {
   "cell_type": "markdown",
   "metadata": {},
   "source": [
    "Also comparing trip duration through different bike types:"
   ]
  },
  {
   "cell_type": "code",
   "execution_count": 19,
   "metadata": {},
   "outputs": [
    {
     "data": {
      "image/png": "[encoded data removed]",
      "text/plain": [
       "<Figure size 432x288 with 1 Axes>"
      ]
     },
     "metadata": {
      "needs_background": "light"
     },
     "output_type": "display_data"
    }
   ],
   "source": [
    "sb.barplot(data=spring, x='rideable_type', y='duration', color=color);"
   ]
  },
  {
   "cell_type": "markdown",
   "metadata": {},
   "source": [
    "Plot shows clearly that customers who used **docked bikes** took more time to reach their destination compared with electric bikes."
   ]
  },
  {
   "cell_type": "markdown",
   "metadata": {},
   "source": [
    "In the next plot, I'm comparing total bike rides for each week."
   ]
  },
  {
   "cell_type": "code",
   "execution_count": 20,
   "metadata": {},
   "outputs": [],
   "source": [
    "indexed_df = spring.set_index('started_at')\n",
    "total_per_week = indexed_df.resample('W').ride_id.count()"
   ]
  },
  {
   "cell_type": "code",
   "execution_count": 49,
   "metadata": {},
   "outputs": [
    {
     "data": {
      "image/png": "[encoded data removed]",
      "text/plain": [
       "<Figure size 432x288 with 1 Axes>"
      ]
     },
     "metadata": {
      "needs_background": "light"
     },
     "output_type": "display_data"
    }
   ],
   "source": [
    "plt.plot(total_per_week.index.weekofyear, total_per_week, 'o', linestyle='-')\n",
    "plt.xlim(13,26)\n",
    "plt.xlabel('Week of the year')\n",
    "plt.ylabel('Total rides');"
   ]
  },
  {
   "cell_type": "markdown",
   "metadata": {},
   "source": [
    "Total rides count is increasing over time."
   ]
  },
  {
   "cell_type": "markdown",
   "metadata": {},
   "source": [
    "Plotting mean duration of trip weekly."
   ]
  },
  {
   "cell_type": "code",
   "execution_count": 50,
   "metadata": {},
   "outputs": [
    {
     "data": {
      "image/png": "[encoded data removed]",
      "text/plain": [
       "<Figure size 432x288 with 1 Axes>"
      ]
     },
     "metadata": {
      "needs_background": "light"
     },
     "output_type": "display_data"
    }
   ],
   "source": [
    "duration_per_week = indexed_df.resample('W').duration.mean()\n",
    "plt.plot(duration_per_week.index.weekofyear, duration_per_week, 'o', linestyle='-')\n",
    "plt.xlabel('Week of the year')\n",
    "plt.ylabel('Mean trip duration');"
   ]
  },
  {
   "cell_type": "markdown",
   "metadata": {},
   "source": [
    "Although total rides seem to increase with time, trip duration mean is decreasing, in the following section I'm plotting relationship between total ride count every week and mean trip duration."
   ]
  },
  {
   "cell_type": "code",
   "execution_count": 74,
   "metadata": {},
   "outputs": [
    {
     "data": {
      "image/png": "[encoded data removed]",
      "text/plain": [
       "<Figure size 432x288 with 1 Axes>"
      ]
     },
     "metadata": {
      "needs_background": "light"
     },
     "output_type": "display_data"
    }
   ],
   "source": [
    "sb.regplot(total_per_week, duration_per_week, ci=None)\n",
    "plt.xlabel('Total rides count')\n",
    "plt.ylabel('mean duration');"
   ]
  },
  {
   "cell_type": "markdown",
   "metadata": {},
   "source": [
    "Visually, there is a negative correlation between number of rides per week and mean ride duration, however, further analysis is required for asessing this relationship."
   ]
  },
  {
   "cell_type": "markdown",
   "metadata": {},
   "source": [
    "### Summary II\n",
    "\n",
    "- Visualization showed that Casual customers have trip duration larger then members.\n",
    "- Electric bikes are related with much lower trip duration compared with docked bikes.\n",
    "\n",
    "### Other features\n",
    "\n",
    "- Total rides per week is increasing in our range of analysis, while mean trip duration seems to be decreasing.\n",
    "- Scatter plot suggests negative relationship between total rides per week and mean trip duration."
   ]
  },
  {
   "cell_type": "markdown",
   "metadata": {},
   "source": [
    "## Multivariate Exploration\n",
    "\n",
    "As shown before, **docked bikes** and **casual customers** are the most related factors with high trip duration, further analysis of each category is conducted in the following plot. <br>\n",
    "Checking every set of categories in detail is a good practice to avoid wrong conclusions such as those resulting from **Simpson's paradox** for example."
   ]
  },
  {
   "cell_type": "code",
   "execution_count": 52,
   "metadata": {},
   "outputs": [
    {
     "data": {
      "image/png": "[encoded data removed]",
      "text/plain": [
       "<Figure size 432x288 with 1 Axes>"
      ]
     },
     "metadata": {
      "needs_background": "light"
     },
     "output_type": "display_data"
    }
   ],
   "source": [
    "sb.barplot(data=spring, x='rideable_type', y='duration', hue='member_casual');"
   ]
  },
  {
   "cell_type": "markdown",
   "metadata": {},
   "source": [
    "Visually, it looks that **casual customers** who used **docked bikes** have the heighst chances for having a very **long** trip. While **members** who used **electric bikes** are related with the **least trip duration**."
   ]
  },
  {
   "cell_type": "markdown",
   "metadata": {},
   "source": [
    "Let us plot the change of mean trip duration over time for each customer category."
   ]
  },
  {
   "cell_type": "code",
   "execution_count": 33,
   "metadata": {},
   "outputs": [],
   "source": [
    "# Subsetting each category from the original dataframe\n",
    "casuals = indexed_df[indexed_df.member_casual == 'casual']\n",
    "members = indexed_df[indexed_df.member_casual == 'member']"
   ]
  },
  {
   "cell_type": "code",
   "execution_count": 69,
   "metadata": {},
   "outputs": [
    {
     "data": {
      "image/png": "[encoded data removed]",
      "text/plain": [
       "<Figure size 432x288 with 1 Axes>"
      ]
     },
     "metadata": {
      "needs_background": "light"
     },
     "output_type": "display_data"
    }
   ],
   "source": [
    "#Summarizing dataframe in weeks\n",
    "casuals_dur = casuals.resample('W').duration.mean()\n",
    "members_dur = members.resample('W').duration.mean()\n",
    "\n",
    "#plotting\n",
    "plt.plot(casuals_dur.index.weekofyear, casuals_dur, label='Casual')\n",
    "plt.plot(members_dur.index.weekofyear, members_dur, label='Members')\n",
    "plt.legend()\n",
    "plt.xlabel('Week of the year')\n",
    "plt.ylabel('Mean duration (m)');"
   ]
  },
  {
   "cell_type": "markdown",
   "metadata": {},
   "source": [
    "While members trip duration average looks constant over time, trip duration avg is falling significantly over time in casual individuals. <br>\n",
    "\n",
    "Next we are having a look over change of total rides over time in each category."
   ]
  },
  {
   "cell_type": "code",
   "execution_count": 70,
   "metadata": {},
   "outputs": [
    {
     "data": {
      "image/png": "[encoded data removed]",
      "text/plain": [
       "<Figure size 432x288 with 1 Axes>"
      ]
     },
     "metadata": {
      "needs_background": "light"
     },
     "output_type": "display_data"
    }
   ],
   "source": [
    "#Summarizing dataframe in weeks\n",
    "casuals_rids = casuals.resample('W').ride_id.count()\n",
    "members_rids = members.resample('W').ride_id.count()\n",
    "\n",
    "#plotting both lines\n",
    "plt.plot(casuals_rids.index.weekofyear, casuals_rids, label='Casual')\n",
    "plt.plot(members_rids.index.weekofyear, members_rids, label='Members')\n",
    "plt.legend()\n",
    "plt.xlim(14,26)\n",
    "plt.xlabel('Week of the year')\n",
    "plt.ylabel('Total rides');"
   ]
  },
  {
   "cell_type": "markdown",
   "metadata": {},
   "source": [
    "As shown before, total rides are increasing over spring period in both categories."
   ]
  },
  {
   "cell_type": "markdown",
   "metadata": {},
   "source": [
    "### Summary III\n",
    "\n",
    "As total rides increase over time in both categories, mean ride duration looks to decrease over time only in casual customers. Mean duration doesn't show significant visual change over time.\n",
    "\n",
    "### Interesting interaction:\n",
    "\n",
    "As **members** total rides seem to be relatively constant over time, making another *scatter plot* of relation between **total rides** and **ride duration** in **casuals only** may be an interesting idea."
   ]
  },
  {
   "cell_type": "code",
   "execution_count": 73,
   "metadata": {},
   "outputs": [
    {
     "data": {
      "text/plain": [
       "Text(0, 0.5, 'mean duration')"
      ]
     },
     "execution_count": 73,
     "metadata": {},
     "output_type": "execute_result"
    },
    {
     "data": {
      "image/png": "[encoded data removed]",
      "text/plain": [
       "<Figure size 432x288 with 1 Axes>"
      ]
     },
     "metadata": {
      "needs_background": "light"
     },
     "output_type": "display_data"
    }
   ],
   "source": [
    "sb.regplot(casuals_rids, casuals_dur, ci=None)\n",
    "plt.xlabel('Total rides count')\n",
    "plt.ylabel('mean duration')"
   ]
  },
  {
   "cell_type": "markdown",
   "metadata": {},
   "source": [
    "Negative correlation between **total rides** and **mean duration** in **casual customers** is visually stronger. <br> Further statistical analysis is required to assess the nature of this relationship."
   ]
  }
 ],
 "metadata": {
  "kernelspec": {
   "display_name": "Python 3",
   "language": "python",
   "name": "python3"
  },
  "language_info": {
   "codemirror_mode": {
    "name": "ipython",
    "version": 3
   },
   "file_extension": ".py",
   "mimetype": "text/x-python",
   "name": "python",
   "nbconvert_exporter": "python",
   "pygments_lexer": "ipython3",
   "version": "3.7.7"
  }
 },
 "nbformat": 4,
 "nbformat_minor": 2
}
